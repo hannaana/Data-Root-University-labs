{
 "cells": [
  {
   "cell_type": "code",
   "execution_count": 1,
   "metadata": {},
   "outputs": [],
   "source": [
    "import numpy as np\n"
   ]
  },
  {
   "cell_type": "code",
   "execution_count": 2,
   "metadata": {},
   "outputs": [],
   "source": [
    "X = np.array(np.random.randn(15, 2))"
   ]
  },
  {
   "cell_type": "code",
   "execution_count": 14,
   "metadata": {},
   "outputs": [
    {
     "data": {
      "text/plain": [
       "array([[ 0.88074906,  0.26046596],\n",
       "       [ 3.07002388,  0.00564112],\n",
       "       [ 0.56029125,  0.29783878],\n",
       "       [ 1.2095303 ,  0.53209668],\n",
       "       [-1.73096676, -0.48814427],\n",
       "       [ 0.79416336, -0.92849887],\n",
       "       [ 0.52084946, -0.40891087],\n",
       "       [ 0.33827351, -1.11370803],\n",
       "       [ 1.08731588,  1.45764624],\n",
       "       [ 0.60423698,  0.51627008],\n",
       "       [-0.28429971,  0.36659811],\n",
       "       [-1.06649243,  0.88961116],\n",
       "       [-0.50056678,  0.11116946],\n",
       "       [-1.89270371, -0.20443088],\n",
       "       [-0.36685246, -0.58278473]])"
      ]
     },
     "execution_count": 14,
     "metadata": {},
     "output_type": "execute_result"
    }
   ],
   "source": [
    "X"
   ]
  },
  {
   "cell_type": "code",
   "execution_count": 18,
   "metadata": {},
   "outputs": [
    {
     "name": "stdout",
     "output_type": "stream",
     "text": [
      "0.9184560025189462\n",
      "3.0700290610541865\n",
      "0.6345346536106058\n",
      "1.3213971491036296\n",
      "1.7984801247980187\n",
      "1.2218042400469245\n",
      "0.6621874811907176\n",
      "1.1639478255094808\n",
      "1.8185126839981367\n",
      "0.794756015673888\n",
      "0.46391863754436524\n",
      "1.388817522525143\n",
      "0.5127628568305694\n",
      "1.9037119887575633\n",
      "0.6886354434775586\n"
     ]
    }
   ],
   "source": [
    "for row in X:\n",
    "    print(np.linalg.norm(row))"
   ]
  },
  {
   "cell_type": "code",
   "execution_count": 13,
   "metadata": {},
   "outputs": [
    {
     "data": {
      "text/plain": [
       "array([ 0.88074906,  3.07002388,  0.56029125,  1.2095303 , -1.73096676,\n",
       "        0.79416336,  0.52084946,  0.33827351,  1.08731588,  0.60423698,\n",
       "       -0.28429971, -1.06649243, -0.50056678, -1.89270371, -0.36685246])"
      ]
     },
     "execution_count": 13,
     "metadata": {},
     "output_type": "execute_result"
    }
   ],
   "source": [
    "X[0:X.shape[0],0]"
   ]
  },
  {
   "cell_type": "code",
   "execution_count": 15,
   "metadata": {},
   "outputs": [
    {
     "name": "stdout",
     "output_type": "stream",
     "text": [
      "[0.88074906 0.26046596]\n",
      "[3.07002388 0.00564112]\n",
      "[0.56029125 0.29783878]\n",
      "[1.2095303  0.53209668]\n",
      "[-1.73096676 -0.48814427]\n",
      "[ 0.79416336 -0.92849887]\n",
      "[ 0.52084946 -0.40891087]\n",
      "[ 0.33827351 -1.11370803]\n",
      "[1.08731588 1.45764624]\n",
      "[0.60423698 0.51627008]\n",
      "[-0.28429971  0.36659811]\n",
      "[-1.06649243  0.88961116]\n",
      "[-0.50056678  0.11116946]\n",
      "[-1.89270371 -0.20443088]\n",
      "[-0.36685246 -0.58278473]\n"
     ]
    }
   ],
   "source": [
    "for featureset in X[:\n",
    "    print(featureset)"
   ]
  },
  {
   "cell_type": "code",
   "execution_count": 6,
   "metadata": {},
   "outputs": [
    {
     "data": {
      "text/plain": [
       "array([[0.88074906, 0.26046596],\n",
       "       [3.07002388, 0.00564112],\n",
       "       [0.56029125, 0.29783878]])"
      ]
     },
     "execution_count": 6,
     "metadata": {},
     "output_type": "execute_result"
    }
   ],
   "source": [
    "X[0:3]"
   ]
  },
  {
   "cell_type": "code",
   "execution_count": 8,
   "metadata": {},
   "outputs": [],
   "source": [
    "centroids = []\n",
    "centroids.append(X[0:2])"
   ]
  },
  {
   "cell_type": "code",
   "execution_count": 9,
   "metadata": {},
   "outputs": [
    {
     "data": {
      "text/plain": [
       "[array([[0.88074906, 0.26046596],\n",
       "        [3.07002388, 0.00564112]])]"
      ]
     },
     "execution_count": 9,
     "metadata": {},
     "output_type": "execute_result"
    }
   ],
   "source": [
    "centroids"
   ]
  },
  {
   "cell_type": "code",
   "execution_count": 10,
   "metadata": {},
   "outputs": [
    {
     "data": {
      "text/plain": [
       "array([[[0.88074906, 0.26046596],\n",
       "        [3.07002388, 0.00564112]]])"
      ]
     },
     "execution_count": 10,
     "metadata": {},
     "output_type": "execute_result"
    }
   ],
   "source": [
    "np.array(centroids)"
   ]
  },
  {
   "cell_type": "code",
   "execution_count": 19,
   "metadata": {},
   "outputs": [],
   "source": [
    "points = np.vstack(((np.random.randn(150, 2) * 0.75 + np.array([1, 0])),\n",
    "                  (np.random.randn(50, 2) * 0.25 + np.array([-0.5, 0.5])),\n",
    "                  (np.random.randn(50, 2) * 0.5 + np.array([-0.5, -0.5]))))"
   ]
  },
  {
   "cell_type": "code",
   "execution_count": 21,
   "metadata": {},
   "outputs": [
    {
     "data": {
      "text/plain": [
       "(250, 2)"
      ]
     },
     "execution_count": 21,
     "metadata": {},
     "output_type": "execute_result"
    }
   ],
   "source": [
    "points.shape"
   ]
  },
  {
   "cell_type": "code",
   "execution_count": null,
   "metadata": {},
   "outputs": [],
   "source": []
  }
 ],
 "metadata": {
  "kernelspec": {
   "display_name": "Python 3",
   "language": "python",
   "name": "python3"
  },
  "language_info": {
   "codemirror_mode": {
    "name": "ipython",
    "version": 3
   },
   "file_extension": ".py",
   "mimetype": "text/x-python",
   "name": "python",
   "nbconvert_exporter": "python",
   "pygments_lexer": "ipython3",
   "version": "3.7.3"
  }
 },
 "nbformat": 4,
 "nbformat_minor": 2
}
